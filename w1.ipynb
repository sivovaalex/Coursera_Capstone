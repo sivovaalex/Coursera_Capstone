{
    "cells": [
        {
            "metadata": {
                "id": "PCpYfHmHMZxm",
                "colab_type": "text"
            },
            "cell_type": "markdown",
            "source": "**This notebook will be mainly used for the capstone project**\n\n\n"
        },
        {
            "metadata": {
                "id": "30-QE4UjMm_Z",
                "colab_type": "code",
                "colab": {
                    "base_uri": "https://localhost:8080/",
                    "height": 34
                },
                "outputId": "a685d6da-3842-497e-eff4-281e8efad350"
            },
            "cell_type": "code",
            "source": "import pandas as pd\nimport numpy as np\nprint('Hello Capstone Project Course!')",
            "execution_count": 1,
            "outputs": [
                {
                    "output_type": "stream",
                    "text": "Hello Capstone Project Course!\n",
                    "name": "stdout"
                }
            ]
        }
    ],
    "metadata": {
        "colab": {
            "name": "w1.ipynb",
            "provenance": [],
            "collapsed_sections": []
        },
        "kernelspec": {
            "name": "python3",
            "display_name": "Python 3.6",
            "language": "python"
        },
        "language_info": {
            "name": "python",
            "version": "3.6.9",
            "mimetype": "text/x-python",
            "codemirror_mode": {
                "name": "ipython",
                "version": 3
            },
            "pygments_lexer": "ipython3",
            "nbconvert_exporter": "python",
            "file_extension": ".py"
        }
    },
    "nbformat": 4,
    "nbformat_minor": 1
}