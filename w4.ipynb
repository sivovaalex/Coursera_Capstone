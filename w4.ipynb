{
    "cells": [
        {
            "cell_type": "markdown",
            "metadata": {},
            "source": "Introduction\n\nFood inspection involves sampling and testing of end products, assessing food centers to ensure compliance with food safety management systems. This minimizes the occurrence of public health food safety problems. Currently, some cities in the united states e.g. San Francisco are implementing a technologically driven approach to food inspection to try and predict food establishments that are more likely to be non-compliant to food safety regulation. This is driven in part by the low Inspector to Food place ratio making it difficult to efficiently inspect all the food places. We will use Foursquare which comes with venue data that contains key descriptors of different venues including the category and popularity. "
        },
        {
            "cell_type": "markdown",
            "metadata": {},
            "source": "Business Problem\n\nThis project will introduce a business inspection predictive analytics report that can help promote business safety and for example food business as part of the many processes put to prevent food-borne illness."
        },
        {
            "cell_type": "markdown",
            "metadata": {},
            "source": "Data https://data.sfgov.org/Health-and-Social-Services/Restaurant-Scores-LIVES-Standard/pyih-qa8i\n\n   Weather Data- In public health, the weather is a key component. Long rains are associated\nwith flooding which predisposes to contamination of food with waterborne microbes.\n\n\uf0b7 Crime Data- Higher crime rates have been strongly correlated with poverty due to lack of\nemployment. Poverty has been in turn correlated with low hygiene which tends to predict\nthe occurrence of critical violations of food safety regulations.\n\n\uf0b7 Places Data-To help locate food establishments for inspection, there needs to be a way to\npinpoint exactly where they are situated and preferably show it on a map. There are\ndifferent sources of places data each which its set of strength and weakness.\uf0b7 Inspection Data- Inspection data contains information such as previous the history of\ncritical violations, type of facility, whether the establishment has a tobacco license and the\nlength of time the establishment has been operating.\n\n\uf0b7 Water and Sanitation data- Garbage and sanitation complaints can be used, together with\nother data, to try and predict critical violations. A place with frequent sanitation complaints\nis more likely to have a joint with critical violations as compared to another without any\ncomplaint.\n\n\uf0b7 Demographics data- Demographics especially health demographics contain data about\npeople living around a place including the age, sex, estimated income, occupation, recent\ninfections all of which can be carefully correlated and used to predict a critical violation."
        },
        {
            "cell_type": "code",
            "execution_count": null,
            "metadata": {},
            "outputs": [],
            "source": ""
        },
        {
            "cell_type": "code",
            "execution_count": null,
            "metadata": {},
            "outputs": [],
            "source": ""
        },
        {
            "cell_type": "code",
            "execution_count": null,
            "metadata": {},
            "outputs": [],
            "source": ""
        },
        {
            "cell_type": "code",
            "execution_count": null,
            "metadata": {},
            "outputs": [],
            "source": ""
        },
        {
            "cell_type": "code",
            "execution_count": null,
            "metadata": {},
            "outputs": [],
            "source": ""
        },
        {
            "cell_type": "code",
            "execution_count": null,
            "metadata": {},
            "outputs": [],
            "source": ""
        },
        {
            "cell_type": "code",
            "execution_count": null,
            "metadata": {},
            "outputs": [],
            "source": ""
        },
        {
            "cell_type": "code",
            "execution_count": null,
            "metadata": {},
            "outputs": [],
            "source": ""
        },
        {
            "cell_type": "code",
            "execution_count": null,
            "metadata": {
                "collapsed": true
            },
            "outputs": [],
            "source": "CLIENT_ID = 'PWQCOTAVSEYJZXONVHU5NF5OBB1GXG02S3A5TTZMF1MZN0VY'\nCLIENT_SECRET = 'MRPOSMMDNUSF5I0KJJU2XSFREGFD0WE0BKJCP5YDTDSXCGT4'\nVERSION = '20200720'"
        }
    ],
    "metadata": {
        "kernelspec": {
            "display_name": "Python 3.6",
            "language": "python",
            "name": "python3"
        },
        "language_info": {
            "codemirror_mode": {
                "name": "ipython",
                "version": 3
            },
            "file_extension": ".py",
            "mimetype": "text/x-python",
            "name": "python",
            "nbconvert_exporter": "python",
            "pygments_lexer": "ipython3",
            "version": "3.6.9"
        }
    },
    "nbformat": 4,
    "nbformat_minor": 1
}